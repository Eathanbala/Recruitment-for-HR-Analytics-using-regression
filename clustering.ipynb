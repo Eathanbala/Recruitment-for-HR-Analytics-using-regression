{
 "cells": [
  {
   "cell_type": "code",
   "execution_count": 5,
   "id": "b0e26d65-0120-42d4-88ca-91ad8eb734c2",
   "metadata": {},
   "outputs": [
    {
     "name": "stdout",
     "output_type": "stream",
     "text": [
      "Centroids: [[18.0, 2.0], [18.0, 0.3333333333333333]]\n",
      "Clusters:\n",
      "Cluster 1: [[18, 2]]\n",
      "Cluster 2: [[18, 0], [18, 0], [18, 1]]\n"
     ]
    }
   ],
   "source": [
    "# Recruitment Pipeline Optimization for HR Analytics\n",
    "# Implementing Clustering Without Built-in Functions\n",
    "\n",
    "# Sample Dataset\n",
    "data = [\n",
    "    {\"EmpID\": \"RM297\", \"Age\": 18, \"AgeGroup\": \"18-25\", \"Attrition\": \"Yes\", \"BusinessTravel\": \"Travel_Rarely\"},\n",
    "    {\"EmpID\": \"RM302\", \"Age\": 18, \"AgeGroup\": \"18-25\", \"Attrition\": \"No\", \"BusinessTravel\": \"Travel_Rarely\"},\n",
    "    {\"EmpID\": \"RM458\", \"Age\": 18, \"AgeGroup\": \"18-25\", \"Attrition\": \"Yes\", \"BusinessTravel\": \"Travel_Frequently\"},\n",
    "    {\"EmpID\": \"RM728\", \"Age\": 18, \"AgeGroup\": \"18-25\", \"Attrition\": \"No\", \"BusinessTravel\": \"Non-Travel\"}\n",
    "]\n",
    "\n",
    "# Step 1: Encode Categorical Data Manually\n",
    "def encode_categorical(data, column):\n",
    "    unique_values = []\n",
    "    for row in data:\n",
    "        if row[column] not in unique_values:\n",
    "            unique_values.append(row[column])\n",
    "    \n",
    "    for row in data:\n",
    "        row[column] = unique_values.index(row[column])\n",
    "    return unique_values\n",
    "\n",
    "# Encode columns\n",
    "attrition_labels = encode_categorical(data, \"Attrition\")\n",
    "business_travel_labels = encode_categorical(data, \"BusinessTravel\")\n",
    "\n",
    "# Step 2: Prepare Features for Clustering\n",
    "X = []\n",
    "for row in data:\n",
    "    X.append([row[\"Age\"], row[\"BusinessTravel\"]])\n",
    "\n",
    "# Step 3: Implement K-Means Clustering\n",
    "import random\n",
    "\n",
    "def initialize_centroids(X, k):\n",
    "    return random.sample(X, k)\n",
    "\n",
    "def assign_clusters(X, centroids):\n",
    "    clusters = [[] for _ in centroids]\n",
    "    for point in X:\n",
    "        distances = [sum((point[i] - centroid[i]) ** 2 for i in range(len(point))) for centroid in centroids]\n",
    "        closest_centroid = distances.index(min(distances))\n",
    "        clusters[closest_centroid].append(point)\n",
    "    return clusters\n",
    "\n",
    "def calculate_new_centroids(clusters):\n",
    "    centroids = []\n",
    "    for cluster in clusters:\n",
    "        centroid = [sum(point[i] for point in cluster) / len(cluster) for i in range(len(cluster[0]))]\n",
    "        centroids.append(centroid)\n",
    "    return centroids\n",
    "\n",
    "def k_means(X, k, max_iterations=100):\n",
    "    centroids = initialize_centroids(X, k)\n",
    "    for _ in range(max_iterations):\n",
    "        clusters = assign_clusters(X, centroids)\n",
    "        new_centroids = calculate_new_centroids(clusters)\n",
    "        if new_centroids == centroids:\n",
    "            break\n",
    "        centroids = new_centroids\n",
    "    return centroids, clusters\n",
    "\n",
    "# Step 4: Perform Clustering\n",
    "k = 2  # Number of clusters\n",
    "centroids, clusters = k_means(X, k)\n",
    "\n",
    "# Output Results\n",
    "print(\"Centroids:\", centroids)\n",
    "print(\"Clusters:\")\n",
    "for i, cluster in enumerate(clusters):\n",
    "    print(f\"Cluster {i + 1}: {cluster}\")\n"
   ]
  },
  {
   "cell_type": "code",
   "execution_count": null,
   "id": "2cec3054-5d23-44a1-86d6-8ee7146b4000",
   "metadata": {},
   "outputs": [],
   "source": []
  }
 ],
 "metadata": {
  "kernelspec": {
   "display_name": "Python 3 (ipykernel)",
   "language": "python",
   "name": "python3"
  },
  "language_info": {
   "codemirror_mode": {
    "name": "ipython",
    "version": 3
   },
   "file_extension": ".py",
   "mimetype": "text/x-python",
   "name": "python",
   "nbconvert_exporter": "python",
   "pygments_lexer": "ipython3",
   "version": "3.11.9"
  }
 },
 "nbformat": 4,
 "nbformat_minor": 5
}
